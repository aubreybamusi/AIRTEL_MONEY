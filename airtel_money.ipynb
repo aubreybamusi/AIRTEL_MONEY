{
 "cells": [
  {
   "cell_type": "code",
   "execution_count": null,
   "id": "dc122158-3537-4782-b4e2-f5f656e602d6",
   "metadata": {},
   "outputs": [
    {
     "name": "stdin",
     "output_type": "stream",
     "text": [
      "enter code to access menu *211#\n"
     ]
    },
    {
     "name": "stdout",
     "output_type": "stream",
     "text": [
      "access granted\n",
      "welcom to airtel money\n",
      "\n",
      "menu:\n",
      "1.send money\n",
      "2.buy airtime\n",
      "3.withdraw\n",
      "4.make payment\n",
      "5.financial service\n",
      "6.bank\n",
      "7.change pin\n",
      "8.exit\n"
     ]
    }
   ],
   "source": [
    "def start_ssd_system():\n",
    "    code=input(\"enter code to access menu\")\n",
    "    if code==\"*211#\":\n",
    "        print(\"access granted\")\n",
    "def send_money():\n",
    "    amount=float(input(\"enter amount to send:\"))\n",
    "    pin=int(input(\"enter your pin\"))\n",
    "    print(f\"successfully send\")\n",
    "def buy_airtime():\n",
    "    amount=float(input(\"enter amount to buy:\"))\n",
    "    pin=int(input(\"enter your pin\"))\n",
    "    print(F\"successfully purchased\")\n",
    "def withdraw():\n",
    "    amount=float(input(\"enter amount to withdraw\"))\n",
    "    pin=int(input(\"enter your pin\"))\n",
    "    print(f\"successfully withdraw\")\n",
    "def make_payment():\n",
    "    amount=float(input(\"enter amount to pay:\"))\n",
    "    pin=int(input(\"enter you pin\"))\n",
    "    print(F\"successfully payed\")\n",
    "    amount=float(input(\"enter amount to pay:\"))\n",
    "def financial_service():\n",
    "    print(\"1. loan\")\n",
    "    select=int(input(\"enter your choice\"))\n",
    "    if select==1:\n",
    "        print(\"welcome to loan \")\n",
    "        amount=float(input(\"enter amount you want\"))\n",
    "        fee=amount*0.5\n",
    "        total=amount+fee\n",
    "        print(f\"you have successfully \")\n",
    "def bank():\n",
    "    print(\"1.bant to wallet\")\n",
    "    select=int(input(\"enter your choice\"))\n",
    "    if select==1:\n",
    "        print(\"welcome to bank to wallet\")\n",
    "        amount=float(input(\"enter amount you want\"))\n",
    "        pin=int(input(\"enter your pin\"))\n",
    "        print(f\"you have successfully\")\n",
    "def change_pin():\n",
    "    print(\"1.enter new pin\")\n",
    "    print(\"2.pin already exist\")\n",
    "    if select==\"1\":\n",
    "        print(\"enter new pin\")\n",
    "    elif select==\"2\":\n",
    "        print(\"pin already exist\")\n",
    "def start():\n",
    "    print(\"welcom to airtel money\")\n",
    "    while True:\n",
    "        print(\"\\nmenu:\")\n",
    "        print(\"1.send money\")\n",
    "        print(\"2.buy airtime\")\n",
    "        print(\"3.withdraw\")\n",
    "        print(\"4.make payment\")\n",
    "        print(\"5.financial service\")\n",
    "        print(\"6.bank\")\n",
    "        print(\"7.change pin\")\n",
    "        print(\"8.exit\")\n",
    "        choice=input(\"enter your choice(1-5):\")\n",
    "        if choice==\"1\":\n",
    "            send_money()\n",
    "        elif choice==\"2\":\n",
    "            buy_airtime()\n",
    "        elif choice==\"3\":\n",
    "            withdraw() \n",
    "        elif choice==\"4\":\n",
    "            make_payment()\n",
    "        elif choice==\"5\":\n",
    "            financial_service()\n",
    "        elif choice==\"6\":\n",
    "            bank()\n",
    "        elif choice==\"7\":\n",
    "            change_pin()\n",
    "        elif choice==\"8\":\n",
    "            print(\"exiting\")\n",
    "            break\n",
    "        else:\n",
    "            print(\"invalid choice! please try again.\") \n",
    "\n",
    "            \n",
    "start_ssd_system () \n",
    "start()"
   ]
  },
  {
   "cell_type": "code",
   "execution_count": null,
   "id": "b825fce8-8993-4941-8283-1635bbce2568",
   "metadata": {},
   "outputs": [],
   "source": []
  }
 ],
 "metadata": {
  "kernelspec": {
   "display_name": "Python 3 (ipykernel)",
   "language":  "python",
   "name":  "python3"
  },
  "language_info": {
   "codemirror_mode": {
    "name": "ipython",
    "version": 3
   },
   "file_extension": ".py",
   "mimetype": "text/x-python",
   "name": "python",
   "nbconvert_exporter": "python",
   "pygments_lexer": "ipython3",
   "version": "3.13.2"
  }
 },
 "nbformat": 4,
 "nbformat_minor": 5
}
